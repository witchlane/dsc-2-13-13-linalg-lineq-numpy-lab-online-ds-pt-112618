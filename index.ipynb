{
 "cells": [
  {
   "cell_type": "markdown",
   "metadata": {},
   "source": [
    "# Solving Systems of Linear Equations with NumPy - Lab\n",
    "\n",
    "## Introduction \n",
    "\n",
    "Now we have gathered all the required skills needed to solve systems of linear equations. We saw why need to calculate inverses of matrices, followed by matrix multiplication to figure the values of unknown variables. \n",
    "\n",
    "Following exercises present some problems that can be converted into a system of linear equations. Solve the problems for the values of unknown variables. \n",
    "\n",
    "## Objectives\n",
    "You will be able to:\n",
    "\n",
    "* Build a system of equations from given problem by creating matrix and vectors in NumPy\n",
    "* Calculate the inverse and dot-product to get the values for unknown variables.\n",
    "* Solve linear equations using `numpy.linalg.solve()`"
   ]
  },
  {
   "cell_type": "markdown",
   "metadata": {},
   "source": [
    "## Exercise 1\n",
    "\n",
    "A coffee shop is having a sale on coffee and tea. \n",
    "\n",
    "On day 1, 29 bags of coffee and 41 bags of tea was sold, giving a total of 490 dollars.\n",
    "\n",
    "On day 2, they sold 23 bags of coffee and 41 bags of tea, for which customers paid a total of 448 dollars.  \n",
    "\n",
    "How much does each bag cost?"
   ]
  },
  {
   "cell_type": "code",
   "execution_count": 4,
   "metadata": {},
   "outputs": [
    {
     "data": {
      "text/plain": [
       "matrix([[ 0.16666667, -0.16666667],\n",
       "        [-0.09349593,  0.11788618]])"
      ]
     },
     "execution_count": 4,
     "metadata": {},
     "output_type": "execute_result"
    }
   ],
   "source": [
    "# Solution:\n",
    "# original equation:\n",
    "# 29c + 41t = 490\n",
    "# 23c + 41t = 448\n",
    "\n",
    "# subtract the first equation from the second equation and result is:\n",
    "# 6c = 42\n",
    "# so c = 7\n",
    "\n",
    "# plug the value for variable c back into the original equation:\n",
    "# 29(7) + 41t = 490\n",
    "# 203 + 41t = 490\n",
    "# 41t + 490-203\n",
    "# 41t = 287\n",
    "# t = 7\n",
    "\n",
    "#import Numpy\n",
    "import numpy as np\n",
    "\n",
    "# define A and B\n",
    "A = np.matrix([[29,41],[23,41]])\n",
    "B = np.matrix([490,448])\n",
    "\n",
    "# take the inverse of matrix A\n",
    "A_inv = np.linalg.inv(A)\n",
    "A_inv"
   ]
  },
  {
   "cell_type": "code",
   "execution_count": 5,
   "metadata": {},
   "outputs": [
    {
     "name": "stdout",
     "output_type": "stream",
     "text": [
      "(1, 2)\n",
      "(2, 1)\n"
     ]
    },
    {
     "data": {
      "text/plain": [
       "matrix([[490],\n",
       "        [448]])"
      ]
     },
     "execution_count": 5,
     "metadata": {},
     "output_type": "execute_result"
    }
   ],
   "source": [
    "#check the shape of B\n",
    "print(B.shape)\n",
    "B = B.T\n",
    "print(B.shape)\n",
    "B"
   ]
  },
  {
   "cell_type": "code",
   "execution_count": 6,
   "metadata": {},
   "outputs": [
    {
     "data": {
      "text/plain": [
       "matrix([[7.],\n",
       "        [7.]])"
      ]
     },
     "execution_count": 6,
     "metadata": {},
     "output_type": "execute_result"
    }
   ],
   "source": [
    "X = A_inv.dot(B)\n",
    "X"
   ]
  },
  {
   "cell_type": "code",
   "execution_count": 13,
   "metadata": {},
   "outputs": [],
   "source": [
    "# Explain your answer in terms of prices\n",
    "# so the result of the equation and the multiplication of the matrices\n",
    "# shows that a bag of coffee equals $7 and bag of tea also euqals $7.\n",
    "# The linear equation is solved as the mutliplication of the \"pricing\" matrix [29,41] and [23,41]\n",
    "# and the other side of the equation is the total dollar amount matrix [490,448]\n",
    "# to get the final solution we need to multiply the first set of matrices by their negative -1 exponent which is\n",
    "# the same as dividing the right hand side of the equation ([490,448]) by the first matrix ([29,41],[23,41])\n",
    "# the resulting multiplication code above provides our answer of $7 for bag of coffee and $7 for bag of tea."
   ]
  },
  {
   "cell_type": "markdown",
   "metadata": {},
   "source": [
    "## Exercise 2:\n",
    "\n",
    "The cost of admission to a popular music concert was 162 dollars for 12 children and 3 adults. \n",
    "\n",
    "The admission was 122 dollars for 8 children and 3 adults in another music concert. \n",
    "\n",
    "How much was the admission for each child and adult?"
   ]
  },
  {
   "cell_type": "code",
   "execution_count": 8,
   "metadata": {},
   "outputs": [
    {
     "name": "stdout",
     "output_type": "stream",
     "text": [
      "[[ 0.25       -0.25      ]\n",
      " [-0.66666667  1.        ]]\n",
      "(1, 2)\n",
      "(2, 1)\n"
     ]
    },
    {
     "data": {
      "text/plain": [
       "matrix([[10.],\n",
       "        [14.]])"
      ]
     },
     "execution_count": 8,
     "metadata": {},
     "output_type": "execute_result"
    }
   ],
   "source": [
    "# Create a system of equations\n",
    "# 12c + 3a = 162\n",
    "# 8c + 3a = 122\n",
    "\n",
    "# or in matrix format:\n",
    "A = np.matrix([[12,3],[8,3]])\n",
    "B = np.matrix([162,122])\n",
    "\n",
    "A_inv = np.linalg.inv(A)\n",
    "print(A_inv)\n",
    "\n",
    "print(B.shape)\n",
    "B = B.T\n",
    "print(B.shape)\n",
    "B\n",
    "\n",
    "X = A_inv.dot(B)\n",
    "X"
   ]
  },
  {
   "cell_type": "code",
   "execution_count": 7,
   "metadata": {},
   "outputs": [],
   "source": [
    "# Describe your result\n",
    "# shows that a ticket for a child is $10 and an adult ticket is $14\n",
    "# The linear equation is solved as the mutliplication of the \"price\" matrix [12,3] and [8,3]\n",
    "# and the other side of the equation is the total dollar amount matrix [162,122]\n",
    "# to get the final solution we need to multiply the first set of matrices by their negative -1 exponent which is\n",
    "# the same as dividing the right hand side of the equation ([162,122]) by the first matrix ([12,3],[8,3])\n",
    "# the resulting multiplication code above provides our answer of $10 for a child ticket and $14 for an adult ticket."
   ]
  },
  {
   "cell_type": "markdown",
   "metadata": {},
   "source": [
    "## Exercise 3:\n",
    "\n",
    "You want to make a certain kind of tropical punch, using bananas, oranges, and papayas. \n",
    "\n",
    "Suppose you don't know how many of each to put in the punch, but you know that there are seven pieces of fruit in the mix, and there are twice as many oranges as bananas. \n",
    "\n",
    "You also know that the seven pieces of fruit cost \\$5.25, \n",
    "\n",
    "where bananas cost \\$.50 each, oranges cost \\$.75 each, and papayas cost \\$1.25 each.\n",
    "\n",
    "How many bananas, oranges and papayas would you need to make this punch ?"
   ]
  },
  {
   "cell_type": "code",
   "execution_count": 10,
   "metadata": {},
   "outputs": [
    {
     "name": "stdout",
     "output_type": "stream",
     "text": [
      "[[ 0.71428571 -0.57142857 -0.28571429]\n",
      " [ 1.42857143 -1.14285714  0.42857143]\n",
      " [-1.14285714  1.71428571 -0.14285714]]\n",
      "(1, 3)\n",
      "(3, 1)\n"
     ]
    },
    {
     "data": {
      "text/plain": [
       "matrix([[2.],\n",
       "        [4.],\n",
       "        [1.]])"
      ]
     },
     "execution_count": 10,
     "metadata": {},
     "output_type": "execute_result"
    }
   ],
   "source": [
    "# Create a system of equations\n",
    "# b + 2o + p = 7\n",
    "# .5b + .75o + 1.25p = 5.25\n",
    "\n",
    "# mutliply the second part of the equation by 2\n",
    "\n",
    "# b + 2o + p = 7\n",
    "# b + 1.5o + 2.5p = 10.5\n",
    "# -2o + o + p = 0\n",
    "\n",
    "# or in matrix format\n",
    "\n",
    "import numpy as np\n",
    "\n",
    "A = np.matrix([[1,1,1],[.5,.75,1.25],[-2,1,0]])\n",
    "B = np.matrix([7,5.25,0])\n",
    "\n",
    "A_inv = np.linalg.inv(A)\n",
    "print(A_inv)\n",
    "\n",
    "print(B.shape)\n",
    "B = B.T\n",
    "print(B.shape)\n",
    "B\n",
    "\n",
    "X = np.linalg.solve(A,B)\n",
    "X"
   ]
  },
  {
   "cell_type": "code",
   "execution_count": 2,
   "metadata": {},
   "outputs": [],
   "source": [
    "# Explain your answer\n",
    "# The system of equations represents the 3 versions in the question with the associated 3 column, 3 row matrix\n",
    "# The system is then solved for b=2, o=4 and p=1\n",
    "# This is then proved by substituting in the first equation:\n",
    "# b + 2o + p = 7 OR\n",
    "# 2 + 2(2) + 1 = 7 OR\n",
    "# 2 + 4 + 1 = 7\n",
    "# 7 = 7"
   ]
  },
  {
   "cell_type": "markdown",
   "metadata": {},
   "source": [
    "## Exercise 4\n",
    "\n",
    "A landlord owns 3 houses, a 1-bedroom, a 2-bedroom , and a 3-bedroom house. \n",
    "\n",
    "The total rent he receives is 1240 dollars. \n",
    "\n",
    "He needs to make some repairs, where it costs 10% of the 1-bedroom house’s rent for its repairs, 20% of the 2-bedroom for its repairs, and 30% of the 3-bedroom house's rent for its repairs.  The total repair bill for all three houses was $276. \n",
    "\n",
    "The 3-bedroom house's rent is twice the 1-bedroom house’s rent. \n",
    "\n",
    "How much is the individual rent for three houses?"
   ]
  },
  {
   "cell_type": "code",
   "execution_count": 12,
   "metadata": {},
   "outputs": [
    {
     "name": "stdout",
     "output_type": "stream",
     "text": [
      "[[ -2.  10.   1.]\n",
      " [  7. -30.  -2.]\n",
      " [ -4.  20.   1.]]\n",
      "(1, 3)\n",
      "(3, 1)\n"
     ]
    },
    {
     "data": {
      "text/plain": [
       "matrix([[280.],\n",
       "        [400.],\n",
       "        [560.]])"
      ]
     },
     "execution_count": 12,
     "metadata": {},
     "output_type": "execute_result"
    }
   ],
   "source": [
    "# Create a system of equations\n",
    "\n",
    "# a = 1 bedroom house, b = 2 bedroom house, c = 3 bedroom house\n",
    "# a + b + c = 1240\n",
    "# .10a + .20b + .30c = 276\n",
    "# 2a + b - c = 0 \n",
    "\n",
    "# or in matrix format\n",
    "\n",
    "A = np.matrix([[1,1,1],[.10,.20,.30],[2,0,-1]])\n",
    "B = np.matrix([1240,276,0])\n",
    "\n",
    "A_inv = np.linalg.inv(A)\n",
    "print(A_inv)\n",
    "\n",
    "print(B.shape)\n",
    "B = B.T\n",
    "print(B.shape)\n",
    "B\n",
    "\n",
    "X = np.linalg.solve(A,B)\n",
    "X\n"
   ]
  },
  {
   "cell_type": "code",
   "execution_count": 11,
   "metadata": {},
   "outputs": [],
   "source": [
    "# Explain your answer\n",
    "# The system of equations represents the 3 versions in the question with the associated 3 column, 3 row matrix\n",
    "# a = 1 bedroom house, b = 2 bedroom house and c = 3 bedroom house\n",
    "# The system is then solved for a=280, b=400 and c=560\n",
    "# This is then proved by substituting in the first equation:\n",
    "# a + b + c = 1240\n",
    "# 280 + 400 + 560 = 1240 or the second equation:\n",
    "# .10a + .20b + .30c = 276\n",
    "# .10(280) + .20(400) + .30(560) = 276\n",
    "# 28 + 80 + 168 = 276\n",
    "# 276 = 276"
   ]
  },
  {
   "cell_type": "markdown",
   "metadata": {},
   "source": [
    "## Summary\n",
    "In this lab, we saw how to use Numpy to solve linear equations by taking inverses and matrix multiplication and also using numpy's `.solve()`. We shall now take these skills forward and see how we can define a simple regression problem using linear algebra and solve it with numpy, only using the skills that we have learnt so far. "
   ]
  }
 ],
 "metadata": {
  "kernelspec": {
   "display_name": "learn-env",
   "language": "python",
   "name": "learn-env"
  },
  "language_info": {
   "codemirror_mode": {
    "name": "ipython",
    "version": 3
   },
   "file_extension": ".py",
   "mimetype": "text/x-python",
   "name": "python",
   "nbconvert_exporter": "python",
   "pygments_lexer": "ipython3",
   "version": "3.6.6"
  }
 },
 "nbformat": 4,
 "nbformat_minor": 2
}
